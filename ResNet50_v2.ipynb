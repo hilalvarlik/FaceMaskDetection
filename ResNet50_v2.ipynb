{
  "nbformat": 4,
  "nbformat_minor": 0,
  "metadata": {
    "colab": {
      "name": "ResNet50_v2.ipynb",
      "provenance": [],
      "collapsed_sections": [],
      "mount_file_id": "1ZoBGTEN-_T_S3OkzYAtjv0aB6spaXC2F",
      "authorship_tag": "ABX9TyOeUIfYtuh1Pld7peFDnEXu"
    },
    "kernelspec": {
      "name": "python3",
      "display_name": "Python 3"
    },
    "language_info": {
      "name": "python"
    }
  },
  "cells": [
    {
      "cell_type": "code",
      "metadata": {
        "id": "ppqRvd-AjGku"
      },
      "source": [
        "from tensorflow.keras.optimizers import Adam\n",
        "from tensorflow.keras.utils import to_categorical\n",
        "from sklearn.preprocessing import LabelBinarizer\n",
        "from sklearn.model_selection import train_test_split\n",
        "from sklearn.metrics import classification_report\n",
        "from imutils import paths\n",
        "import matplotlib.pyplot as plt\n",
        "import numpy as np\n",
        "import tensorflow_hub as hub\n",
        "import tensorflow as tf\n",
        "from tensorflow.keras.preprocessing.image import img_to_array\n",
        "from tensorflow.keras.preprocessing.image import ImageDataGenerator\n",
        "from tensorflow.keras.preprocessing.image import load_img\n",
        "from tensorflow.keras import layers\n",
        "from tensorflow.keras.layers import Input\n",
        "import argparse\n",
        "import os\n",
        "from tensorflow.keras.applications import ResNet50V2"
      ],
      "execution_count": null,
      "outputs": []
    },
    {
      "cell_type": "code",
      "metadata": {
        "id": "MCBGeGPejqq_"
      },
      "source": [
        "import numpy as np\n",
        "\n",
        "data=np.load('/content/drive/MyDrive/deeplearningproject/data.npy')\n",
        "labels=np.load('/content/drive/MyDrive/deeplearningproject/labels.npy')"
      ],
      "execution_count": null,
      "outputs": []
    },
    {
      "cell_type": "code",
      "metadata": {
        "id": "7nLzeRAxKbbu"
      },
      "source": [
        "(trainX, testX, trainY, testY) = train_test_split(data, labels,\ttest_size=0.20, stratify=labels, random_state=42)"
      ],
      "execution_count": null,
      "outputs": []
    },
    {
      "cell_type": "code",
      "metadata": {
        "id": "tnJhsATIKfDq"
      },
      "source": [
        "aug = ImageDataGenerator(\n",
        "  featurewise_center=False,  \n",
        "  samplewise_center=False,  \n",
        "  featurewise_std_normalization=False,  \n",
        "  samplewise_std_normalization=False,  \n",
        "  zca_whitening=False,\n",
        "\trotation_range=20,\n",
        "\tzoom_range=0.15,\n",
        "\twidth_shift_range=0.2,\n",
        "\theight_shift_range=0.2,\n",
        "\tshear_range=0.15,\n",
        "\thorizontal_flip=True,\n",
        "\tfill_mode=\"nearest\")"
      ],
      "execution_count": null,
      "outputs": []
    },
    {
      "cell_type": "code",
      "metadata": {
        "id": "Pq1nwKphKhtE",
        "colab": {
          "base_uri": "https://localhost:8080/"
        },
        "outputId": "4818e6cd-8324-4f59-903d-080597adf767"
      },
      "source": [
        "IMG_SIZE = 224\n",
        "CHANNELS = 3\n",
        "N_LABELS=2\n",
        "\n",
        "feature_extractor_layer = ResNet50V2(weights=\"imagenet\", include_top=False,\n",
        "\tinput_tensor=Input(shape=(IMG_SIZE,IMG_SIZE,CHANNELS)))"
      ],
      "execution_count": null,
      "outputs": [
        {
          "output_type": "stream",
          "text": [
            "Downloading data from https://storage.googleapis.com/tensorflow/keras-applications/resnet/resnet50v2_weights_tf_dim_ordering_tf_kernels_notop.h5\n",
            "94674944/94668760 [==============================] - 1s 0us/step\n"
          ],
          "name": "stdout"
        }
      ]
    },
    {
      "cell_type": "code",
      "metadata": {
        "id": "NOfarVX3KmfL"
      },
      "source": [
        "feature_extractor_layer.trainable = False"
      ],
      "execution_count": null,
      "outputs": []
    },
    {
      "cell_type": "code",
      "metadata": {
        "id": "N5UzqKQCKoKo"
      },
      "source": [
        "model = tf.keras.Sequential([\n",
        "    feature_extractor_layer,\n",
        "    layers.Flatten(name=\"flatten\"),\n",
        "    layers.Dense(128, activation='relu', name='hidden_layer'),\n",
        "    layers.Dropout(0.5),\n",
        "    layers.Dense(N_LABELS, activation='sigmoid', name='output')\n",
        "])"
      ],
      "execution_count": null,
      "outputs": []
    },
    {
      "cell_type": "code",
      "metadata": {
        "colab": {
          "base_uri": "https://localhost:8080/"
        },
        "id": "zxSVmwc_i4ef",
        "outputId": "a9574f01-0230-4166-d8b0-ab84a3c051ae"
      },
      "source": [
        "model.summary()"
      ],
      "execution_count": null,
      "outputs": [
        {
          "output_type": "stream",
          "text": [
            "Model: \"sequential\"\n",
            "_________________________________________________________________\n",
            "Layer (type)                 Output Shape              Param #   \n",
            "=================================================================\n",
            "resnet50v2 (Functional)      (None, 7, 7, 2048)        23564800  \n",
            "_________________________________________________________________\n",
            "flatten (Flatten)            (None, 100352)            0         \n",
            "_________________________________________________________________\n",
            "hidden_layer (Dense)         (None, 128)               12845184  \n",
            "_________________________________________________________________\n",
            "dropout (Dropout)            (None, 128)               0         \n",
            "_________________________________________________________________\n",
            "output (Dense)               (None, 2)                 258       \n",
            "=================================================================\n",
            "Total params: 36,410,242\n",
            "Trainable params: 12,845,442\n",
            "Non-trainable params: 23,564,800\n",
            "_________________________________________________________________\n"
          ],
          "name": "stdout"
        }
      ]
    },
    {
      "cell_type": "code",
      "metadata": {
        "colab": {
          "base_uri": "https://localhost:8080/",
          "height": 564
        },
        "id": "ydnn0GT_DLE1",
        "outputId": "2bbacfd0-7c92-4a01-e89c-e2f434ccbdbf"
      },
      "source": [
        "from tensorflow.keras.utils import plot_model\n",
        "plot_model(model, to_file='model.png')"
      ],
      "execution_count": null,
      "outputs": [
        {
          "output_type": "execute_result",
          "data": {
            "image/png": "[encoded data removed]",
            "text/plain": [
              "<IPython.core.display.Image object>"
            ]
          },
          "metadata": {
            "tags": []
          },
          "execution_count": 18
        }
      ]
    },
    {
      "cell_type": "code",
      "metadata": {
        "id": "_F12J_EBKrpY"
      },
      "source": [
        "LR = 1e-4 # öğrenme oranı\n",
        "EPOCHS = 20\n",
        "BS = 32"
      ],
      "execution_count": null,
      "outputs": []
    },
    {
      "cell_type": "code",
      "metadata": {
        "id": "gwE2MtZ9KtO_"
      },
      "source": [
        "model.compile(\n",
        "  optimizer=tf.keras.optimizers.Adam(learning_rate=LR),\n",
        "  loss=\"binary_crossentropy\",\n",
        "  metrics=[\"accuracy\"])"
      ],
      "execution_count": null,
      "outputs": []
    },
    {
      "cell_type": "code",
      "metadata": {
        "colab": {
          "base_uri": "https://localhost:8080/"
        },
        "id": "lXH9rDO9i8Oo",
        "outputId": "4e51b77d-42f4-4f32-993e-3227e413a731"
      },
      "source": [
        "history = model.fit(aug.flow(trainX, trainY, batch_size=BS),\n",
        "\tsteps_per_epoch=len(trainX) // BS,\n",
        "\tvalidation_data=(testX, testY),\n",
        "\tepochs=EPOCHS)"
      ],
      "execution_count": null,
      "outputs": [
        {
          "output_type": "stream",
          "text": [
            "Epoch 1/20\n",
            "188/188 [==============================] - 699s 4s/step - loss: 0.1348 - accuracy: 0.9640 - val_loss: 0.0346 - val_accuracy: 0.9960\n",
            "Epoch 2/20\n",
            "188/188 [==============================] - 704s 4s/step - loss: 0.0345 - accuracy: 0.9913 - val_loss: 0.0250 - val_accuracy: 0.9960\n",
            "Epoch 3/20\n",
            "188/188 [==============================] - 705s 4s/step - loss: 0.0381 - accuracy: 0.9918 - val_loss: 0.0280 - val_accuracy: 0.9960\n",
            "Epoch 4/20\n",
            "188/188 [==============================] - 706s 4s/step - loss: 0.0477 - accuracy: 0.9879 - val_loss: 0.0222 - val_accuracy: 0.9960\n",
            "Epoch 5/20\n",
            "188/188 [==============================] - 709s 4s/step - loss: 0.0346 - accuracy: 0.9931 - val_loss: 0.0254 - val_accuracy: 0.9947\n",
            "Epoch 6/20\n",
            "188/188 [==============================] - 707s 4s/step - loss: 0.0282 - accuracy: 0.9902 - val_loss: 0.0216 - val_accuracy: 0.9967\n",
            "Epoch 7/20\n",
            "188/188 [==============================] - 702s 4s/step - loss: 0.0321 - accuracy: 0.9929 - val_loss: 0.0284 - val_accuracy: 0.9947\n",
            "Epoch 8/20\n",
            "188/188 [==============================] - 707s 4s/step - loss: 0.0208 - accuracy: 0.9950 - val_loss: 0.0244 - val_accuracy: 0.9954\n",
            "Epoch 9/20\n",
            "188/188 [==============================] - 705s 4s/step - loss: 0.0292 - accuracy: 0.9932 - val_loss: 0.0259 - val_accuracy: 0.9967\n",
            "Epoch 10/20\n",
            "188/188 [==============================] - 700s 4s/step - loss: 0.0478 - accuracy: 0.9921 - val_loss: 0.0261 - val_accuracy: 0.9967\n",
            "Epoch 11/20\n",
            "188/188 [==============================] - 705s 4s/step - loss: 0.0306 - accuracy: 0.9942 - val_loss: 0.0260 - val_accuracy: 0.9974\n",
            "Epoch 12/20\n",
            "188/188 [==============================] - 700s 4s/step - loss: 0.0244 - accuracy: 0.9942 - val_loss: 0.0285 - val_accuracy: 0.9967\n",
            "Epoch 13/20\n",
            "188/188 [==============================] - 708s 4s/step - loss: 0.0218 - accuracy: 0.9929 - val_loss: 0.0281 - val_accuracy: 0.9967\n",
            "Epoch 14/20\n",
            "188/188 [==============================] - 709s 4s/step - loss: 0.0341 - accuracy: 0.9932 - val_loss: 0.0379 - val_accuracy: 0.9947\n",
            "Epoch 15/20\n",
            "188/188 [==============================] - 707s 4s/step - loss: 0.0174 - accuracy: 0.9951 - val_loss: 0.0352 - val_accuracy: 0.9967\n",
            "Epoch 16/20\n",
            "188/188 [==============================] - 708s 4s/step - loss: 0.0450 - accuracy: 0.9916 - val_loss: 0.0298 - val_accuracy: 0.9960\n",
            "Epoch 17/20\n",
            "188/188 [==============================] - 706s 4s/step - loss: 0.0275 - accuracy: 0.9958 - val_loss: 0.0305 - val_accuracy: 0.9934\n",
            "Epoch 18/20\n",
            "188/188 [==============================] - 705s 4s/step - loss: 0.0269 - accuracy: 0.9929 - val_loss: 0.0312 - val_accuracy: 0.9954\n",
            "Epoch 19/20\n",
            "188/188 [==============================] - 707s 4s/step - loss: 0.0118 - accuracy: 0.9967 - val_loss: 0.0331 - val_accuracy: 0.9954\n",
            "Epoch 20/20\n",
            "188/188 [==============================] - 707s 4s/step - loss: 0.0166 - accuracy: 0.9956 - val_loss: 0.0425 - val_accuracy: 0.9947\n"
          ],
          "name": "stdout"
        }
      ]
    },
    {
      "cell_type": "code",
      "metadata": {
        "colab": {
          "base_uri": "https://localhost:8080/",
          "height": 316
        },
        "id": "veaMKO_28TmS",
        "outputId": "6239d058-6650-4ca3-ef8c-827b8e6d5106"
      },
      "source": [
        "import matplotlib.pyplot as plt\n",
        "\n",
        "plt.style.use(\"ggplot\")\n",
        "plt.figure()\n",
        "\n",
        "plt.plot(np.arange(0, EPOCHS), history.history[\"loss\"], label=\"train_loss\")\n",
        "plt.plot(np.arange(0, EPOCHS), history.history[\"val_loss\"], label=\"val_loss\")\n",
        "plt.plot(np.arange(0, EPOCHS), history.history[\"accuracy\"], label=\"train_acc\")\n",
        "plt.plot(np.arange(0, EPOCHS), history.history[\"val_accuracy\"], label=\"val_acc\")\n",
        "\n",
        "plt.title(\"Training Loss and Accuracy\")\n",
        "plt.xlabel(\"Epoch #\")\n",
        "plt.ylabel(\"Loss/Accuracy\")\n",
        "plt.legend(loc=\"lower left\")"
      ],
      "execution_count": null,
      "outputs": [
        {
          "output_type": "execute_result",
          "data": {
            "text/plain": [
              "<matplotlib.legend.Legend at 0x7f24e8b4fe50>"
            ]
          },
          "metadata": {
            "tags": []
          },
          "execution_count": 14
        },
        {
          "output_type": "display_data",
          "data": {
            "image/png": "[encoded data removed]",
            "text/plain": [
              "<Figure size 432x288 with 1 Axes>"
            ]
          },
          "metadata": {
            "tags": []
          }
        }
      ]
    },
    {
      "cell_type": "code",
      "metadata": {
        "id": "iROKwlam9Q5l"
      },
      "source": [
        "model.save_weights('/content/drive/MyDrive/deeplearningproject/ResNetModel.h5')"
      ],
      "execution_count": null,
      "outputs": []
    }
  ]
}