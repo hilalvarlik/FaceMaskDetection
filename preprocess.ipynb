{
  "nbformat": 4,
  "nbformat_minor": 0,
  "metadata": {
    "colab": {
      "name": "preprocess.ipynb",
      "provenance": [],
      "mount_file_id": "1F4nbzzD0Hzxr9NboE4NoQAo6pduHR6pX",
      "authorship_tag": "ABX9TyMyqSQ8tOuyxLOML/8DLSVM"
    },
    "kernelspec": {
      "name": "python3",
      "display_name": "Python 3"
    },
    "language_info": {
      "name": "python"
    }
  },
  "cells": [
    {
      "cell_type": "code",
      "metadata": {
        "id": "Gl2zg57eFbeE"
      },
      "source": [
        "import os\n",
        "import zipfile\n",
        "import random\n",
        "import shutil\n",
        "import tensorflow as tf\n",
        "from tensorflow.keras.optimizers import RMSprop\n",
        "from tensorflow.keras.preprocessing.image import ImageDataGenerator\n",
        "from shutil import copyfile\n",
        "from os import getcwd\n",
        "from os import listdir\n",
        "import cv2\n",
        "from tensorflow.keras.layers import Conv2D, Input, ZeroPadding2D, BatchNormalization, Activation, MaxPooling2D, Flatten, Dense\n",
        "from tensorflow.keras.models import Model, load_model\n",
        "from tensorflow.keras.callbacks import TensorBoard, ModelCheckpoint\n",
        "from sklearn.model_selection import train_test_split\n",
        "from sklearn.metrics import f1_score\n",
        "from sklearn.utils import shuffle\n",
        "import imutils\n",
        "import numpy as np\n",
        "import matplotlib.pyplot as plt\n",
        "import matplotlib.image  as mpimg"
      ],
      "execution_count": null,
      "outputs": []
    },
    {
      "cell_type": "code",
      "metadata": {
        "colab": {
          "base_uri": "https://localhost:8080/"
        },
        "id": "JfE1xabAF8w1",
        "outputId": "113dc1cc-a170-4d63-9d0e-01f43c82c6ef"
      },
      "source": [
        "print(\"Yüz maskesi 'with' etiketli görüntülerin sayısı:\",len(os.listdir('/content/drive/MyDrive/deeplearningproject/Data/with_mask')))\n",
        "print(\"Yüz maskesi 'without' etiketli görüntülerin sayısı:\",len(os.listdir('/content/drive/MyDrive/deeplearningproject/Data/without_mask')))"
      ],
      "execution_count": null,
      "outputs": [
        {
          "output_type": "stream",
          "text": [
            "Yüz maskesi 'with' etiketli görüntülerin sayısı: 3725\n",
            "Yüz maskesi 'without' etiketli görüntülerin sayısı: 3828\n"
          ],
          "name": "stdout"
        }
      ]
    },
    {
      "cell_type": "code",
      "metadata": {
        "colab": {
          "base_uri": "https://localhost:8080/"
        },
        "id": "TCDG8rUiGBP8",
        "outputId": "500ad70e-291b-4de1-c60a-2b55df8902e3"
      },
      "source": [
        "data_path=\"/content/drive/MyDrive/deeplearningproject/Data/\"\n",
        "categories=os.listdir(data_path)\n",
        "labels=[i for i in range(len(categories))]\n",
        "\n",
        "label_dict=dict(zip(categories,labels))\n",
        "\n",
        "print(label_dict)\n",
        "print(categories)\n",
        "print(labels)"
      ],
      "execution_count": null,
      "outputs": [
        {
          "output_type": "stream",
          "text": [
            "{'with_mask': 0, 'without_mask': 1}\n",
            "['with_mask', 'without_mask']\n",
            "[0, 1]\n"
          ],
          "name": "stdout"
        }
      ]
    },
    {
      "cell_type": "code",
      "metadata": {
        "id": "7KMlCYdIGVGC"
      },
      "source": [
        "img_size=224\n",
        "data=[]\n",
        "target=[]\n",
        "\n",
        "\n",
        "for category in categories:\n",
        "    folder_path=os.path.join(data_path,category)\n",
        "    img_names=os.listdir(folder_path)\n",
        "        \n",
        "    for img_name in img_names:\n",
        "        img_path=os.path.join(folder_path,img_name)\n",
        "        img=cv2.imread(img_path)\n",
        "\n",
        "        try:\n",
        "            gray=cv2.cvtColor(img,cv2.COLOR_BGR2GRAY)           \n",
        "            #Görüntü gri skala ile kaplanır\n",
        "            resized=cv2.resize(gray,(img_size,img_size))\n",
        "            #Veri kümesindeki tüm görüntüler için sabit bir ortak boyuta ihtiyacımız olduğundan gri skalayı 224x224 olarak yeniden boyutlandırdık\n",
        "            data.append(resized)\n",
        "            target.append(label_dict[category])\n",
        "            #Görüntü ve etiket (kategorilere ayrılmış) listeye (veri kümesi) eklemek\n",
        "\n",
        "        except Exception as e:\n",
        "            print('Exception:',e)\n",
        "            #herhangi bir istisna varsa, burada yazdırılacak. Ve sonraki resme geçilecek"
      ],
      "execution_count": null,
      "outputs": []
    },
    {
      "cell_type": "code",
      "metadata": {
        "id": "14JZm82ZHFKG"
      },
      "source": [
        "import numpy as np\n",
        "\n",
        "data=np.array(data)/255.0\n",
        "data=np.reshape(data,(data.shape[0],img_size,img_size,1))\n",
        "target=np.array(target)\n",
        "\n",
        "from keras.utils import np_utils\n",
        "\n",
        "new_target=np_utils.to_categorical(target)"
      ],
      "execution_count": null,
      "outputs": []
    },
    {
      "cell_type": "code",
      "metadata": {
        "id": "HnrWXtLtHG_-"
      },
      "source": [
        "np.save('data',data)\n",
        "np.save('target',new_target)"
      ],
      "execution_count": null,
      "outputs": []
    },
    {
      "cell_type": "code",
      "metadata": {
        "id": "bunqTyrLSmhe"
      },
      "source": [
        "import numpy as np\n",
        "\n",
        "data=np.load('data.npy')\n",
        "target=np.load('target.npy')"
      ],
      "execution_count": null,
      "outputs": []
    },
    {
      "cell_type": "code",
      "metadata": {
        "colab": {
          "base_uri": "https://localhost:8080/"
        },
        "id": "bO411Y5Q1Mms",
        "outputId": "ed899a54-2742-4925-8caa-96cd484564b0"
      },
      "source": [
        "data"
      ],
      "execution_count": null,
      "outputs": [
        {
          "output_type": "execute_result",
          "data": {
            "text/plain": [
              "array([[[[0.30980392],\n",
              "         [0.33333333],\n",
              "         [0.37254902],\n",
              "         ...,\n",
              "         [0.45098039],\n",
              "         [0.42745098],\n",
              "         [0.39215686]],\n",
              "\n",
              "        [[0.30980392],\n",
              "         [0.32941176],\n",
              "         [0.37254902],\n",
              "         ...,\n",
              "         [0.45882353],\n",
              "         [0.42745098],\n",
              "         [0.39215686]],\n",
              "\n",
              "        [[0.30980392],\n",
              "         [0.32941176],\n",
              "         [0.37254902],\n",
              "         ...,\n",
              "         [0.4627451 ],\n",
              "         [0.42745098],\n",
              "         [0.39215686]],\n",
              "\n",
              "        ...,\n",
              "\n",
              "        [[0.12156863],\n",
              "         [0.12941176],\n",
              "         [0.13333333],\n",
              "         ...,\n",
              "         [0.43921569],\n",
              "         [0.42745098],\n",
              "         [0.41960784]],\n",
              "\n",
              "        [[0.12156863],\n",
              "         [0.12941176],\n",
              "         [0.13333333],\n",
              "         ...,\n",
              "         [0.43921569],\n",
              "         [0.42745098],\n",
              "         [0.41960784]],\n",
              "\n",
              "        [[0.12156863],\n",
              "         [0.12941176],\n",
              "         [0.13333333],\n",
              "         ...,\n",
              "         [0.43921569],\n",
              "         [0.42745098],\n",
              "         [0.41960784]]],\n",
              "\n",
              "\n",
              "       [[[0.18039216],\n",
              "         [0.18039216],\n",
              "         [0.18039216],\n",
              "         ...,\n",
              "         [0.16078431],\n",
              "         [0.16078431],\n",
              "         [0.16078431]],\n",
              "\n",
              "        [[0.18039216],\n",
              "         [0.18039216],\n",
              "         [0.18039216],\n",
              "         ...,\n",
              "         [0.16078431],\n",
              "         [0.16078431],\n",
              "         [0.16078431]],\n",
              "\n",
              "        [[0.18431373],\n",
              "         [0.18431373],\n",
              "         [0.18431373],\n",
              "         ...,\n",
              "         [0.16078431],\n",
              "         [0.16470588],\n",
              "         [0.16470588]],\n",
              "\n",
              "        ...,\n",
              "\n",
              "        [[0.37647059],\n",
              "         [0.37647059],\n",
              "         [0.38039216],\n",
              "         ...,\n",
              "         [0.05098039],\n",
              "         [0.04705882],\n",
              "         [0.04705882]],\n",
              "\n",
              "        [[0.38431373],\n",
              "         [0.38431373],\n",
              "         [0.38823529],\n",
              "         ...,\n",
              "         [0.04705882],\n",
              "         [0.04705882],\n",
              "         [0.04705882]],\n",
              "\n",
              "        [[0.38431373],\n",
              "         [0.38431373],\n",
              "         [0.38823529],\n",
              "         ...,\n",
              "         [0.04705882],\n",
              "         [0.04705882],\n",
              "         [0.04705882]]],\n",
              "\n",
              "\n",
              "       [[[0.82352941],\n",
              "         [0.82352941],\n",
              "         [0.82352941],\n",
              "         ...,\n",
              "         [0.82352941],\n",
              "         [0.82352941],\n",
              "         [0.82352941]],\n",
              "\n",
              "        [[0.82352941],\n",
              "         [0.82352941],\n",
              "         [0.82352941],\n",
              "         ...,\n",
              "         [0.82352941],\n",
              "         [0.82352941],\n",
              "         [0.82352941]],\n",
              "\n",
              "        [[0.82352941],\n",
              "         [0.82352941],\n",
              "         [0.82352941],\n",
              "         ...,\n",
              "         [0.82352941],\n",
              "         [0.82352941],\n",
              "         [0.82352941]],\n",
              "\n",
              "        ...,\n",
              "\n",
              "        [[0.10980392],\n",
              "         [0.09411765],\n",
              "         [0.10196078],\n",
              "         ...,\n",
              "         [0.82352941],\n",
              "         [0.82352941],\n",
              "         [0.82352941]],\n",
              "\n",
              "        [[0.10980392],\n",
              "         [0.09019608],\n",
              "         [0.12156863],\n",
              "         ...,\n",
              "         [0.82352941],\n",
              "         [0.82352941],\n",
              "         [0.82352941]],\n",
              "\n",
              "        [[0.10980392],\n",
              "         [0.10196078],\n",
              "         [0.09411765],\n",
              "         ...,\n",
              "         [0.82352941],\n",
              "         [0.82352941],\n",
              "         [0.82352941]]],\n",
              "\n",
              "\n",
              "       ...,\n",
              "\n",
              "\n",
              "       [[[0.11372549],\n",
              "         [0.16078431],\n",
              "         [0.17254902],\n",
              "         ...,\n",
              "         [0.16078431],\n",
              "         [0.1372549 ],\n",
              "         [0.11764706]],\n",
              "\n",
              "        [[0.18823529],\n",
              "         [0.20392157],\n",
              "         [0.11764706],\n",
              "         ...,\n",
              "         [0.16078431],\n",
              "         [0.14117647],\n",
              "         [0.11764706]],\n",
              "\n",
              "        [[0.2       ],\n",
              "         [0.1254902 ],\n",
              "         [0.18823529],\n",
              "         ...,\n",
              "         [0.16078431],\n",
              "         [0.14117647],\n",
              "         [0.11764706]],\n",
              "\n",
              "        ...,\n",
              "\n",
              "        [[0.56862745],\n",
              "         [0.54901961],\n",
              "         [0.5254902 ],\n",
              "         ...,\n",
              "         [0.64705882],\n",
              "         [0.65098039],\n",
              "         [0.65098039]],\n",
              "\n",
              "        [[0.56862745],\n",
              "         [0.54901961],\n",
              "         [0.5254902 ],\n",
              "         ...,\n",
              "         [0.62745098],\n",
              "         [0.62745098],\n",
              "         [0.63137255]],\n",
              "\n",
              "        [[0.56470588],\n",
              "         [0.55294118],\n",
              "         [0.53333333],\n",
              "         ...,\n",
              "         [0.61960784],\n",
              "         [0.61960784],\n",
              "         [0.61960784]]],\n",
              "\n",
              "\n",
              "       [[[0.01176471],\n",
              "         [0.02352941],\n",
              "         [0.02352941],\n",
              "         ...,\n",
              "         [0.03137255],\n",
              "         [0.03529412],\n",
              "         [0.03529412]],\n",
              "\n",
              "        [[0.03921569],\n",
              "         [0.01568627],\n",
              "         [0.01176471],\n",
              "         ...,\n",
              "         [0.03137255],\n",
              "         [0.03529412],\n",
              "         [0.03529412]],\n",
              "\n",
              "        [[0.01176471],\n",
              "         [0.03921569],\n",
              "         [0.03529412],\n",
              "         ...,\n",
              "         [0.03137255],\n",
              "         [0.03529412],\n",
              "         [0.03529412]],\n",
              "\n",
              "        ...,\n",
              "\n",
              "        [[0.03137255],\n",
              "         [0.03137255],\n",
              "         [0.03137255],\n",
              "         ...,\n",
              "         [0.03137255],\n",
              "         [0.03137255],\n",
              "         [0.03137255]],\n",
              "\n",
              "        [[0.03137255],\n",
              "         [0.03137255],\n",
              "         [0.03137255],\n",
              "         ...,\n",
              "         [0.03137255],\n",
              "         [0.03137255],\n",
              "         [0.03137255]],\n",
              "\n",
              "        [[0.03137255],\n",
              "         [0.03137255],\n",
              "         [0.03137255],\n",
              "         ...,\n",
              "         [0.03137255],\n",
              "         [0.03137255],\n",
              "         [0.03137255]]],\n",
              "\n",
              "\n",
              "       [[[0.6       ],\n",
              "         [0.6       ],\n",
              "         [0.60784314],\n",
              "         ...,\n",
              "         [0.59215686],\n",
              "         [0.5372549 ],\n",
              "         [0.7254902 ]],\n",
              "\n",
              "        [[0.6       ],\n",
              "         [0.6       ],\n",
              "         [0.61176471],\n",
              "         ...,\n",
              "         [0.54901961],\n",
              "         [0.50980392],\n",
              "         [0.70588235]],\n",
              "\n",
              "        [[0.6       ],\n",
              "         [0.6       ],\n",
              "         [0.61176471],\n",
              "         ...,\n",
              "         [0.49803922],\n",
              "         [0.47843137],\n",
              "         [0.68627451]],\n",
              "\n",
              "        ...,\n",
              "\n",
              "        [[0.17254902],\n",
              "         [0.22352941],\n",
              "         [0.1254902 ],\n",
              "         ...,\n",
              "         [0.74117647],\n",
              "         [0.75294118],\n",
              "         [0.76862745]],\n",
              "\n",
              "        [[0.18431373],\n",
              "         [0.20784314],\n",
              "         [0.09803922],\n",
              "         ...,\n",
              "         [0.54117647],\n",
              "         [0.56470588],\n",
              "         [0.59607843]],\n",
              "\n",
              "        [[0.18431373],\n",
              "         [0.18823529],\n",
              "         [0.09411765],\n",
              "         ...,\n",
              "         [0.28627451],\n",
              "         [0.31372549],\n",
              "         [0.34117647]]]])"
            ]
          },
          "metadata": {
            "tags": []
          },
          "execution_count": 18
        }
      ]
    },
    {
      "cell_type": "code",
      "metadata": {
        "colab": {
          "base_uri": "https://localhost:8080/"
        },
        "id": "pqipm0qD1u_c",
        "outputId": "b43e648d-7c37-4e9b-c6e4-6e7819e5fa26"
      },
      "source": [
        "target"
      ],
      "execution_count": null,
      "outputs": [
        {
          "output_type": "execute_result",
          "data": {
            "text/plain": [
              "array([[1., 0.],\n",
              "       [1., 0.],\n",
              "       [1., 0.],\n",
              "       ...,\n",
              "       [0., 1.],\n",
              "       [0., 1.],\n",
              "       [0., 1.]], dtype=float32)"
            ]
          },
          "metadata": {
            "tags": []
          },
          "execution_count": 19
        }
      ]
    },
    {
      "cell_type": "code",
      "metadata": {
        "colab": {
          "base_uri": "https://localhost:8080/",
          "height": 339
        },
        "id": "E0phHyfNT3Gu",
        "outputId": "5c529cad-a9f1-466c-fd69-73ce0cefea8b"
      },
      "source": [
        "import matplotlib.pyplot as plt\n",
        "import seaborn as sns\n",
        "\n",
        "l = []\n",
        "for i in target:\n",
        "    if(i[0] == 1):\n",
        "        l.append(\"with_mask\")\n",
        "    else:\n",
        "        l.append(\"without_mask\")\n",
        "sns.set_style('darkgrid')\n",
        "sns.countplot(l)"
      ],
      "execution_count": null,
      "outputs": [
        {
          "output_type": "stream",
          "text": [
            "/usr/local/lib/python3.7/dist-packages/seaborn/_decorators.py:43: FutureWarning: Pass the following variable as a keyword arg: x. From version 0.12, the only valid positional argument will be `data`, and passing other arguments without an explicit keyword will result in an error or misinterpretation.\n",
            "  FutureWarning\n"
          ],
          "name": "stderr"
        },
        {
          "output_type": "execute_result",
          "data": {
            "text/plain": [
              "<matplotlib.axes._subplots.AxesSubplot at 0x7fe72120e310>"
            ]
          },
          "metadata": {
            "tags": []
          },
          "execution_count": 21
        },
        {
          "output_type": "display_data",
          "data": {
            "image/png": "[encoded data removed]",
            "text/plain": [
              "<Figure size 432x288 with 1 Axes>"
            ]
          },
          "metadata": {
            "tags": []
          }
        }
      ]
    }
  ]
}